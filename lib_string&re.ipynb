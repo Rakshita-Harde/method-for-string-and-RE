{
 "cells": [
  {
   "cell_type": "markdown",
   "id": "6a24b94e-42d7-43b0-ab45-93326dc82cec",
   "metadata": {},
   "source": [
    "# string"
   ]
  },
  {
   "cell_type": "code",
   "execution_count": 142,
   "id": "d37cd81f-3457-42d7-82af-644ae084731a",
   "metadata": {},
   "outputs": [],
   "source": [
    "import string"
   ]
  },
  {
   "cell_type": "markdown",
   "id": "535a1471-f5ab-479c-b357-c1614db59414",
   "metadata": {},
   "source": [
    "Basic String Methods"
   ]
  },
  {
   "cell_type": "code",
   "execution_count": 146,
   "id": "f292c454-229d-4703-9698-e2ee7089066f",
   "metadata": {},
   "outputs": [
    {
     "name": "stdout",
     "output_type": "stream",
     "text": [
      "Hello world\n"
     ]
    }
   ],
   "source": [
    "#capitalize first letter\n",
    "text = \"hello world\"\n",
    "captitaliz_text = text.capitalize()\n",
    "print (captitaliz_text)\n"
   ]
  },
  {
   "cell_type": "code",
   "execution_count": 148,
   "id": "7638ffe5-c800-48c2-8d69-86fe1c389f15",
   "metadata": {},
   "outputs": [
    {
     "name": "stdout",
     "output_type": "stream",
     "text": [
      "HELLO WORLD\n"
     ]
    }
   ],
   "source": [
    "# capitalize all letters\n",
    "text = \"hello world\"\n",
    "captitaliz_text = text.upper()\n",
    "print (captitaliz_text)"
   ]
  },
  {
   "cell_type": "code",
   "execution_count": 150,
   "id": "730d7bbd-0494-46a0-b44c-89b03fb5d0ef",
   "metadata": {},
   "outputs": [
    {
     "name": "stdout",
     "output_type": "stream",
     "text": [
      "hello world\n"
     ]
    }
   ],
   "source": [
    "#Lower all letters\n",
    "text = \"hello world\"\n",
    "captitaliz_text = text.lower()\n",
    "print (captitaliz_text)"
   ]
  },
  {
   "cell_type": "code",
   "execution_count": 152,
   "id": "846203ee-1532-45ea-bbeb-572303d3f617",
   "metadata": {},
   "outputs": [
    {
     "name": "stdout",
     "output_type": "stream",
     "text": [
      "Hello World\n"
     ]
    }
   ],
   "source": [
    "#capitalize first letter of every word\n",
    "text = \"hello world\"\n",
    "captitaliz_text = text.title()\n",
    "print (captitaliz_text)"
   ]
  },
  {
   "cell_type": "code",
   "execution_count": 154,
   "id": "56d0d501-4426-446a-8cac-db10245d4066",
   "metadata": {},
   "outputs": [
    {
     "name": "stdout",
     "output_type": "stream",
     "text": [
      "HElLo WoRlD\n"
     ]
    }
   ],
   "source": [
    "#Swap the  letters\n",
    "text = \"heLlO wOrLd\"\n",
    "captitaliz_text = text.swapcase()\n",
    "print (captitaliz_text)"
   ]
  },
  {
   "cell_type": "code",
   "execution_count": 156,
   "id": "f0763e2c-324d-4e66-91a1-431a6f366b8f",
   "metadata": {},
   "outputs": [
    {
     "name": "stdout",
     "output_type": "stream",
     "text": [
      "hello world\n"
     ]
    }
   ],
   "source": [
    "# Lower all letters strongly(for other laguages (`a))\n",
    "text = \"HELLO world\"\n",
    "captitaliz_text = text.casefold()\n",
    "print (captitaliz_text)"
   ]
  },
  {
   "cell_type": "markdown",
   "id": "3ccb0d06-a26c-4b3a-82a7-78b7971469c1",
   "metadata": {},
   "source": [
    "Search & Check Methods"
   ]
  },
  {
   "cell_type": "code",
   "execution_count": 159,
   "id": "6cc04749-906e-49c0-9b66-f9a102576e47",
   "metadata": {},
   "outputs": [
    {
     "name": "stdout",
     "output_type": "stream",
     "text": [
      "True\n",
      "False\n"
     ]
    }
   ],
   "source": [
    "# method to find starting word and ending words\n",
    "text = \"hello world\"\n",
    "print(text.startswith(\"hello\"))  \n",
    "print(text.startswith(\"world\")) "
   ]
  },
  {
   "cell_type": "code",
   "execution_count": 161,
   "id": "0a4a5a52-31e1-46d6-80de-1bc8dd829bb9",
   "metadata": {},
   "outputs": [
    {
     "name": "stdout",
     "output_type": "stream",
     "text": [
      "2\n"
     ]
    }
   ],
   "source": [
    "#finds index of mentioned iterable\n",
    "text = \"hello world\"\n",
    "print(text.find(\"l\"))  "
   ]
  },
  {
   "cell_type": "code",
   "execution_count": 163,
   "id": "9e6a635e-0b52-4841-9fb0-eeab4c14992f",
   "metadata": {},
   "outputs": [
    {
     "name": "stdout",
     "output_type": "stream",
     "text": [
      "10\n"
     ]
    }
   ],
   "source": [
    "# find a iterable with highest index\n",
    "text = \"hello world\"\n",
    "print(text.rfind(\"d\") )"
   ]
  },
  {
   "cell_type": "code",
   "execution_count": 165,
   "id": "9ce0f280-826e-44ad-9469-61d1b52c4f15",
   "metadata": {},
   "outputs": [
    {
     "name": "stdout",
     "output_type": "stream",
     "text": [
      "1\n"
     ]
    }
   ],
   "source": [
    "#\tCounts how many time it  appears\n",
    "text = \"hello world\"\n",
    "print(text.count(\"d\") )"
   ]
  },
  {
   "cell_type": "code",
   "execution_count": 167,
   "id": "b8b1b360-770e-4063-bfb4-e26fa49cde72",
   "metadata": {},
   "outputs": [
    {
     "name": "stdout",
     "output_type": "stream",
     "text": [
      "True\n",
      "True\n",
      "True\n",
      "False\n",
      "False\n",
      "False\n"
     ]
    }
   ],
   "source": [
    "# true if all characters are alphanumeric \n",
    "print(\"abc123\".isalnum())     #  true\n",
    "print(\"abc\".isalnum())        #  true\n",
    "print(\"123\".isalnum())        #  true\n",
    "print(\"abc 123\".isalnum())    #  false (space included)\n",
    "print(\"abc!\".isalnum())       #  false (! is not alphanumeric)\n",
    "print(\"\".isalnum())           #  false (empty)"
   ]
  },
  {
   "cell_type": "code",
   "execution_count": 169,
   "id": "4cdce7ba-be54-40ad-a628-fc592e33bd67",
   "metadata": {},
   "outputs": [
    {
     "name": "stdout",
     "output_type": "stream",
     "text": [
      "True\n"
     ]
    }
   ],
   "source": [
    "# all values are alphabetic\n",
    "print(\"abc\".isalpha()) "
   ]
  },
  {
   "cell_type": "code",
   "execution_count": 171,
   "id": "7645b694-1f3b-4ba9-982f-c2e5c78d7d3d",
   "metadata": {},
   "outputs": [
    {
     "name": "stdout",
     "output_type": "stream",
     "text": [
      "True\n"
     ]
    }
   ],
   "source": [
    "# all values are alphabetic\n",
    "print(\"123\".isdigit()) "
   ]
  },
  {
   "cell_type": "code",
   "execution_count": 173,
   "id": "3f4bfb61-5bb3-4bf7-ad4b-4465d1ad9b76",
   "metadata": {},
   "outputs": [
    {
     "name": "stdout",
     "output_type": "stream",
     "text": [
      "False\n",
      "True\n",
      "False\n"
     ]
    }
   ],
   "source": [
    "#  checks if all characters in a string are decimal digits\n",
    "print(\"12.3\".isdecimal())\n",
    "print(\"123\".isdecimal())\n",
    "print(\"\".isdecimal())"
   ]
  },
  {
   "cell_type": "code",
   "execution_count": 175,
   "id": "87220d7c-748b-4696-b884-e79930a6b54c",
   "metadata": {},
   "outputs": [
    {
     "name": "stdout",
     "output_type": "stream",
     "text": [
      "False\n"
     ]
    }
   ],
   "source": [
    "#  give true for available english word but for other language false \n",
    "print(\"é\".isascii())"
   ]
  },
  {
   "cell_type": "markdown",
   "id": "e41a7739-d87d-45fb-ad22-11bc0e0904d9",
   "metadata": {},
   "source": [
    "Modification Methods"
   ]
  },
  {
   "cell_type": "code",
   "execution_count": 178,
   "id": "a5d814e5-e262-4d96-b5e3-1a983603d980",
   "metadata": {},
   "outputs": [
    {
     "name": "stdout",
     "output_type": "stream",
     "text": [
      "orange banana orange\n"
     ]
    }
   ],
   "source": [
    "# replace a word \n",
    "text = \"apple banana apple\"\n",
    "print(text.replace(\"apple\", \"orange\"))"
   ]
  },
  {
   "cell_type": "code",
   "execution_count": 180,
   "id": "5ec3a46b-e09b-431d-a645-3e494518ade1",
   "metadata": {},
   "outputs": [
    {
     "name": "stdout",
     "output_type": "stream",
     "text": [
      "orange banana apple\n"
     ]
    }
   ],
   "source": [
    "# replace a word of first occurrence\n",
    "text = \"apple banana apple\"\n",
    "print(text.replace(\"apple\", \"orange\",1))"
   ]
  },
  {
   "cell_type": "code",
   "execution_count": 182,
   "id": "3bdd50db-4cde-48fe-b067-47b7b0bae99d",
   "metadata": {},
   "outputs": [
    {
     "name": "stdout",
     "output_type": "stream",
     "text": [
      "Hello\n",
      "Hello  \n",
      "   Hello\n"
     ]
    }
   ],
   "source": [
    "text = \"   Hello  \"\n",
    "print(text.strip()) #removes space\n",
    "print(text.lstrip()) #removes left space\n",
    "print(text.rstrip()) #removes right space"
   ]
  },
  {
   "cell_type": "code",
   "execution_count": 184,
   "id": "7f1645ec-c94c-4ae7-82bc-0c78872db24f",
   "metadata": {},
   "outputs": [
    {
     "name": "stdout",
     "output_type": "stream",
     "text": [
      "Python is fun\n",
      "abc/ def/ pqr\n"
     ]
    }
   ],
   "source": [
    "# joins the words  \n",
    "words = ['Python', 'is', 'fun']\n",
    "result = ' '.join(words)\n",
    "print(result)\n",
    "\n",
    "# joins the words using any special chaecter\n",
    "names = ['abc', 'def', 'pqr']\n",
    "print('/ '.join(names))"
   ]
  },
  {
   "cell_type": "code",
   "execution_count": 200,
   "id": "3ec80518-ee97-488d-996a-191b5ae1e7ec",
   "metadata": {},
   "outputs": [
    {
     "name": "stdout",
     "output_type": "stream",
     "text": [
      "rfind('a'): 5\n",
      "rindex('b'): 0\n"
     ]
    }
   ],
   "source": [
    "# rfind returns index with highest value if not found return -1\n",
    "text = \"banana\"\n",
    "pos = text.rfind(\"a\")\n",
    "print(\"rfind('a'):\", pos)   # Output: 5\n",
    "\n",
    "#  rindex returns index with highest value if not found return error\n",
    "pos1 = text.rindex(\"b\")\n",
    "print(\"rindex('b'):\", pos1)  # Output: 5"
   ]
  },
  {
   "cell_type": "code",
   "execution_count": 208,
   "id": "2d4c4c74-1547-4dc3-911a-dbf1009fa841",
   "metadata": {},
   "outputs": [
    {
     "name": "stdout",
     "output_type": "stream",
     "text": [
      "('hello', '=', 'world')\n"
     ]
    }
   ],
   "source": [
    "#separates the words \n",
    "text = \"hello=world\"\n",
    "parts = text.partition(\"=\")\n",
    "print(parts)"
   ]
  },
  {
   "cell_type": "code",
   "execution_count": 210,
   "id": "a62ab358-af31-4f7e-a25d-919e2f22f715",
   "metadata": {},
   "outputs": [
    {
     "name": "stdout",
     "output_type": "stream",
     "text": [
      "happy\n"
     ]
    }
   ],
   "source": [
    "# removes prefix as per given\n",
    "text = \"unhappy\"\n",
    "print(text.removeprefix(\"un\"))"
   ]
  },
  {
   "cell_type": "code",
   "execution_count": 216,
   "id": "b8c5ecf9-afc7-4b1c-8356-e698d06866c5",
   "metadata": {},
   "outputs": [
    {
     "name": "stdout",
     "output_type": "stream",
     "text": [
      "play\n"
     ]
    }
   ],
   "source": [
    "# removes suffix as per given\n",
    "text = \"playing\"\n",
    "print(text.removesuffix(\"ing\"))"
   ]
  },
  {
   "cell_type": "code",
   "execution_count": 218,
   "id": "b8061296-78e3-4f0e-b827-22cdc1abff5d",
   "metadata": {},
   "outputs": [
    {
     "name": "stdout",
     "output_type": "stream",
     "text": [
      "['a', 'b', 'c', 'd']\n"
     ]
    }
   ],
   "source": [
    "# split by separator\n",
    "text = \"a,b,c,d\"\n",
    "print(text.rsplit(\",\")) "
   ]
  },
  {
   "cell_type": "code",
   "execution_count": 224,
   "id": "b9a5c68c-5478-40ca-9603-0d2cd30566cc",
   "metadata": {},
   "outputs": [
    {
     "name": "stdout",
     "output_type": "stream",
     "text": [
      "['1', '2', '3']\n",
      "['1', '2,3']\n",
      "['1', '2', '3<4']\n"
     ]
    }
   ],
   "source": [
    "print('1,2,3'.split(',')) #split all by a separator\n",
    "\n",
    "print('1,2,3'.split(',', maxsplit=1)) # split by separator but with the limits\n",
    "\n",
    "print('1<>2<>3<4'.split('<>'))\n"
   ]
  },
  {
   "cell_type": "markdown",
   "id": "04585a43-b492-42da-a97c-a0d88bdb20c1",
   "metadata": {},
   "source": [
    "# Regular expression"
   ]
  },
  {
   "cell_type": "code",
   "execution_count": 229,
   "id": "dc708a68-78d9-4e1f-a167-041c84a6e668",
   "metadata": {},
   "outputs": [],
   "source": [
    "import re"
   ]
  },
  {
   "cell_type": "markdown",
   "id": "7c3f16c4-8f5a-43d9-952c-416709037e9d",
   "metadata": {},
   "source": [
    "| Symbol       | Description (One Line)                                                       |                                              |        |\n",
    "| ------------ | ---------------------------------------------------------------------------- | -------------------------------------------- | ------ |\n",
    "| `\\A`         | Matches only at the start of the string.\n",
    "|  `\\b`         | Matches **word boundary** (position between word and non-word char)          |                                              |        |\n",
    "| `\\B`         | Matches **non-word boundary** (between two word chars or two non-word chars) |                                              |        |\n",
    "| `\\d`         | Matches any **digit** (0–9)                                                  |                                              |        |\n",
    "| `\\D`         | Matches any **non-digit** character                                          |                                              |        |\n",
    "| `\\w`         | Matches any **word character** (letters, digits, underscore)                 |                                              |        |\n",
    "| `\\W`         | Matches any **non-word character**                                           |                                              |        |\n",
    "| `\\s`         | Matches any **whitespace** character (space, tab, newline)                   |                                              |        |\n",
    "| `\\S`         | Matches any **non-whitespace** character                                     |                                              |        |\n",
    "| `.`          | Matches **any character except newline** (`\\n`)                              |                                              |        |\n",
    "| `^`          | Matches **start** of the string (or line in multiline mode)                  |                                              |        |\n",
    "| `$`          | Matches **end** of the string (or line in multiline mode)                    |                                              |        |\n",
    "| `*`          | Matches **0 or more** repetitions of the previous pattern                    |                                              |        |\n",
    "| `+`          | Matches **1 or more** repetitions                                            |                                              |        |\n",
    "| `?`          | Matches **0 or 1** occurrence (makes previous optional)                      |                                              |        |\n",
    "| `{n}`        | Matches **exactly n** repetitions                                            |                                              |        |\n",
    "| `{n,}`       | Matches **n or more** repetitions                                            |                                              |        |\n",
    "| `{n,m}`      | Matches **between n and m** repetitions                                      |                                              |        |\n",
    "| `[]`         | Matches any **one character** in the brackets (character class)              |                                              |        |\n",
    "| `[^]`        | Matches any character **not in** the brackets                                |                                              |        |\n",
    "| \\`           | Acts as **OR** between patterns (e.g., \\`cat  dog\\`) \n",
    "| `()`         | Groups patterns and captures matched text                                    |                                              |        |\n",
    "| `(?P<name>)` | Names a group for later backreference                                        |                                              |        |\n",
    "| `(?=...)`    | **Positive lookahead** — matches if followed by pattern                      |                                              |        |\n",
    "| `(?!...)`    | **Negative lookahead** — matches if NOT followed by pattern                  |                                              |        |\n",
    "| `(?<=...)`   | **Positive lookbehind** — matches if preceded by pattern                     |                                              |        |\n",
    "| `(?<!...)`   | **Negative lookbehind** — matches if NOT preceded by pattern                 |                                              |        |\n",
    "| `\\\\`         | Escapes special characters (e.g., `\\\\.` matches a dot)                       |                                              |        |\n"
   ]
  },
  {
   "cell_type": "code",
   "execution_count": 251,
   "id": "46609083-f5f3-4c1d-8254-ee2b6e846cb4",
   "metadata": {},
   "outputs": [
    {
     "name": "stdout",
     "output_type": "stream",
     "text": [
      "<re.Match object; span=(0, 2), match='Hi'>\n",
      "Hi\n"
     ]
    }
   ],
   "source": [
    "#  re.match- matches the first word in the line \n",
    "\n",
    "text = \"Hi Rakshita\"\n",
    "result = re.match('Hi',text)\n",
    "print(result)\n",
    "print(result.group())"
   ]
  },
  {
   "cell_type": "code",
   "execution_count": 257,
   "id": "da822f22-bc38-4945-a521-96b8cd56feba",
   "metadata": {},
   "outputs": [
    {
     "name": "stdout",
     "output_type": "stream",
     "text": [
      "<re.Match object; span=(5, 7), match='am'>\n",
      "am\n"
     ]
    }
   ],
   "source": [
    "# re.search- searching all over sentence\n",
    "text1 = \"Hi i am Rakshita\"\n",
    "result1 = re.search('am',text1)\n",
    "print(result1)\n",
    "print(result1.group())"
   ]
  },
  {
   "cell_type": "code",
   "execution_count": 263,
   "id": "aae95c51-9a1e-4462-996c-359fc24454ae",
   "metadata": {},
   "outputs": [
    {
     "name": "stdout",
     "output_type": "stream",
     "text": [
      "['123', '456']\n",
      "['My', 'phone', 'numbers', 'are', '123', 'and', '456']\n"
     ]
    }
   ],
   "source": [
    "#re.findall-  finding the text from a sentence only when we specify the digit \"d\" else words\"w\"\n",
    "text = \"My phone numbers are 123 and 456\"\n",
    "result = re.findall(r'\\d+', text)\n",
    "print(result)  \n",
    "\n",
    "text = \"My phone numbers are 123 and 456\"\n",
    "result = re.findall(r'\\w+', text)\n",
    "print(result)  "
   ]
  },
  {
   "cell_type": "code",
   "execution_count": 278,
   "id": "bea4a51b-35c5-4af8-b330-2530b8aca408",
   "metadata": {},
   "outputs": [
    {
     "name": "stdout",
     "output_type": "stream",
     "text": [
      "<re.Match object; span=(0, 3), match='123'>\n",
      "None\n",
      "<re.Match object; span=(0, 3), match='123'>\n",
      "None\n",
      "<re.Match object; span=(0, 3), match='123'>\n",
      "<re.Match object; span=(0, 3), match='123'>\n"
     ]
    }
   ],
   "source": [
    "#re.fullmatch - matches the entier string any extra iterable is not allowed even the space\n",
    "result = re.fullmatch(r\"\\d{3}\", \"123\")\n",
    "print(result) \n",
    "print(re.fullmatch(r\"\\d{3}\", \"1234\")) \n",
    "\n",
    "result = re.fullmatch(r\"\\d{3}\", \"123\")\n",
    "print(result) \n",
    "print(re.fullmatch(r\"\\d{3}\", \"12 3\")) \n",
    "\n",
    "result = re.fullmatch(r\"\\d{3}\", \"123\")\n",
    "print(result) \n",
    "print(re.fullmatch(r\"\\d{3}\", \"123\"))"
   ]
  },
  {
   "cell_type": "code",
   "execution_count": 282,
   "id": "e53eeed6-f8dd-455f-887b-52f5ae8aba2e",
   "metadata": {},
   "outputs": [
    {
     "name": "stdout",
     "output_type": "stream",
     "text": [
      "['HI', 'how ', 'you ', ' doing']\n"
     ]
    }
   ],
   "source": [
    "#re.split - split the string \n",
    "\n",
    "text = \"HI,how ,you , doing\"\n",
    "print(re.split(r\",\", text))"
   ]
  },
  {
   "cell_type": "code",
   "execution_count": 286,
   "id": "b766ab89-6595-4f24-88a3-7b9b153d2608",
   "metadata": {},
   "outputs": [
    {
     "name": "stdout",
     "output_type": "stream",
     "text": [
      "['hi', 'how', 'are', 'you']\n"
     ]
    }
   ],
   "source": [
    "# on multiple  separator in single program\n",
    "text = \"hi;how,are you\"\n",
    "print(re.split(r\"[;, ]\", text)) "
   ]
  },
  {
   "cell_type": "code",
   "execution_count": 298,
   "id": "15029813-53da-4859-b1dc-c6ebb4e630b3",
   "metadata": {},
   "outputs": [
    {
     "name": "stdout",
     "output_type": "stream",
     "text": [
      "Match found \"cat\" at 4:7\n",
      "Match found \"cat\" at 28:31\n",
      "Match found \"cat\"\n",
      "Match found \"cat\"\n"
     ]
    }
   ],
   "source": [
    "#  re.finditer - finds the given patterns and the index of perticular number as per the patterns \n",
    "text = \"The cat sat on the mat. The cat is happy.\"\n",
    "pattern = \"cat\"\n",
    "matches = list(re.finditer(pattern, text))\n",
    "for match in matches:\n",
    "    start = match.start()\n",
    "    end = match.end()\n",
    "    print(f'Match found \"{match.group()}\" at {start}:{end}' )\n",
    "\n",
    "\n",
    "text = \"The cat sat on the mat. The cat is happy.\"\n",
    "pattern = \"cat\"\n",
    "matches = list(re.finditer(pattern, text))\n",
    "for match in matches:\n",
    "    print(f'Match found \"{match.group()}\"' )\n",
    "\n"
   ]
  },
  {
   "cell_type": "code",
   "execution_count": 302,
   "id": "cb79b43e-3d2f-48d4-b9a6-6c65f4e0e182",
   "metadata": {},
   "outputs": [
    {
     "name": "stdout",
     "output_type": "stream",
     "text": [
      "('I love sleep , sleep is fun ', 2)\n"
     ]
    }
   ],
   "source": [
    "#re.subn - replaces a string with another sub string \n",
    "\n",
    "text = \"I love maths , maths is fun \"\n",
    "res = re.subn('maths','sleep', text)\n",
    "\n",
    "print(res)"
   ]
  },
  {
   "cell_type": "code",
   "execution_count": 308,
   "id": "326a4f39-2f6d-42a4-821c-bcbc67dc1eba",
   "metadata": {},
   "outputs": [
    {
     "name": "stdout",
     "output_type": "stream",
     "text": [
      "Rakshita\\ \\(25\\-09\\-2000\\)\n"
     ]
    }
   ],
   "source": [
    "#  re.escape - adds backslashes to escape special characters in a string so it can be\n",
    "\n",
    "myinput = \"Rakshita(25-09-2000)\"\n",
    "pattern = re.escape(user_input)\n",
    "\n",
    "print(pattern)"
   ]
  },
  {
   "cell_type": "code",
   "execution_count": null,
   "id": "92fc9be8-a3e1-4702-a4cd-a8f30d1d11e5",
   "metadata": {},
   "outputs": [],
   "source": []
  }
 ],
 "metadata": {
  "kernelspec": {
   "display_name": "Python [conda env:base] *",
   "language": "python",
   "name": "conda-base-py"
  },
  "language_info": {
   "codemirror_mode": {
    "name": "ipython",
    "version": 3
   },
   "file_extension": ".py",
   "mimetype": "text/x-python",
   "name": "python",
   "nbconvert_exporter": "python",
   "pygments_lexer": "ipython3",
   "version": "3.12.7"
  }
 },
 "nbformat": 4,
 "nbformat_minor": 5
}
